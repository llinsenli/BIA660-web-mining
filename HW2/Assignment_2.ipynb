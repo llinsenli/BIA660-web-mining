{
 "cells": [
  {
   "cell_type": "markdown",
   "metadata": {},
   "source": [
    "# Assignment 2: Web Scraping"
   ]
  },
  {
   "cell_type": "markdown",
   "metadata": {},
   "source": [
    "## Q1. Scrape Book Catalog \n",
    "- Scape content of http://books.toscrape.com \n",
    "- Write a function getData() to scrape **title** (see (1) in Figure), **rating** (see (2) in Figure), **price** (see (3) in Figure) of all books (i.e. 20 books) listed in the page.\n",
    "  * For example, the figure shows one book and the corresponding html code. You need to scrape the highlighted content. \n",
    "  * For star ratings, you can simply scrape One, Two, Three, ... \n",
    "- The output is a list of 20 tuples, e.g. [('A Light in the ...','Three','£51.77'), ...] \n",
    "    <img src='assign3_q1.png' width='80%'>\n"
   ]
  },
  {
   "cell_type": "markdown",
   "metadata": {},
   "source": [
    "## Q2. Data Analysis \n",
    "- Create a function preprocess_data which \n",
    "  * takes the list of tuples from Q1 as an input\n",
    "  * converts the price strings to numbers \n",
    "  * calculates the average price of books by ratings \n",
    "  * plots a bar chart to show the average price by ratings. "
   ]
  },
  {
   "cell_type": "markdown",
   "metadata": {},
   "source": [
    "### Q3 (Bonus) Expand your solution to Q1 to scrape the full details of all books on http://books.toscrape.com\n",
    "- Write a function getFullData() to do the following: \n",
    "   * Besides scraping title, rating, and price of each book as stated in Q1, also scrape the **full title** (see (4) in Figure), **description** (see (5) in Figure), and **category** (see (6) in Figure) in each individual book page. \n",
    "     * An example individual book page is shown in the figure below.\n",
    "       <img src='assign3_q3a.png' width='60%'>\n",
    "   \n",
    "   * Scape all book listing pages following the \"next\" link at the bottom. The figure below gives an screenshot of the \"next\" link and its corresponding html code. \n",
    "   * <b>Do not hardcode page URLs </b>(except http://books.toscrape.com) in your code. \n",
    "      <img src='assign3_q3.png' width='80%'>\n",
    "   * The output is a list containing 1000 tuples, \n",
    "     - e.g. [('A Light in the ...','Three','£51.77', 'A Light in the Attic', \"It's hard to imagine a world without A Light in the Attic. This now-classic collection ...\",'Poetry'), ...]\n",
    "    "
   ]
  },
  {
   "cell_type": "code",
   "execution_count": 1,
   "metadata": {},
   "outputs": [],
   "source": [
    "import requests\n",
    "from bs4 import BeautifulSoup  \n",
    "import pandas as pd\n",
    "import matplotlib.pyplot as plt\n",
    "import numpy as np\n",
    "from selenium import webdriver\n",
    "from selenium.webdriver.common.by import By\n",
    "from selenium.webdriver.support.ui import WebDriverWait\n",
    "from selenium.webdriver.support import expected_conditions \n",
    "\n",
    "\n",
    "def preprocess_data(data):\n",
    "    df = pd.DataFrame(data,columns = ['title','rating','price'] )\n",
    "    df['price'] = [float(i[-5:]) for i in df['price']]\n",
    "    grouped = df.groupby('rating')\n",
    "    group_df = grouped.mean().reset_index()\n",
    "    group_df.plot(kind = 'bar',x = 'rating',y = ['price'])\n",
    "    plt.ylabel('average price')\n",
    "    plt.title('average price by rating')\n",
    "    plt.show()\n",
    "    \n",
    "def getData():\n",
    "    url = 'http://books.toscrape.com'\n",
    "    page = requests.get(url)\n",
    "    if page.status_code==200:        \n",
    "        soup = BeautifulSoup(page.content, 'html.parser')\n",
    "        \n",
    "    title = [i.string for i in soup.select('article h3')]\n",
    "    rating = [i['class'][1] for i in soup.select('article p[class~=star-rating]')]\n",
    "    price = [str(i)[-10:-4] for i in soup.select('article p[class=price_color]')] \n",
    "    array = np.array([title,rating,price]).T\n",
    "    result_list = array.tolist()\n",
    "    data=[tuple(i) for i in result_list]\n",
    "    df = pd.DataFrame(array,columns = ['title','rating','price'] )\n",
    "    print(len(title))\n",
    "    print(df)   \n",
    "    return data\n",
    "\n",
    "def getFullData():\n",
    "    \n",
    "    # Set initial variable\n",
    "    url = 'http://books.toscrape.com/catalogue/page-1.html'\n",
    "    executable_path = '/Users/lilinsen/geckodriver'\n",
    "    page_num = 1\n",
    "    #page_total = int(soup.select('ul li[class=current]')[0].string.strip()[-2:])\n",
    "    page_total = 50\n",
    "    title = []\n",
    "    rating = []\n",
    "    price = []\n",
    "    full_title = []\n",
    "    description_s = [] \n",
    "    category_s = []\n",
    "    while page_num < page_total:\n",
    "        page = requests.get(url)\n",
    "        soup = BeautifulSoup(page.content, 'html.parser')\n",
    "        urls = ['http://books.toscrape.com/catalogue/'+i['href'] for i in soup.select('article div a[href]')]\n",
    "        description = []\n",
    "        category = []\n",
    "        for u in urls:\n",
    "            new_page = requests.get(u)\n",
    "            new_soup = BeautifulSoup(new_page.content, 'html.parser')\n",
    "            des = new_soup.select('article p')[3].string\n",
    "            cate = new_soup.select('li a')[2].string\n",
    "            description.append(des)\n",
    "            category.append(cate)\n",
    "        \n",
    "        # Get the imformation of the book from each page\n",
    "        description_s += description\n",
    "        category_s += category\n",
    "        title += [i.string for i in soup.select('article h3')]\n",
    "        rating += [i['class'][1] for i in soup.select('article p[class~=star-rating]')]\n",
    "        price += [str(i)[-10:-4] for i in soup.select('article p[class=price_color]')] \n",
    "        full_title += [i['title'].strip() for i in soup.select('article h3 a')]\n",
    "    \n",
    "        # Click on the next page and update the new url and page number\n",
    "        driver = webdriver.Firefox(executable_path=executable_path)\n",
    "        driver.get(url)\n",
    "        try:\n",
    "            next_link = driver.find_element_by_link_text('next')\n",
    "            next_link.click()\n",
    "            url = driver.current_url\n",
    "            page_num = int(soup.select('ul li[class=current]')[0].string.strip()[5:7].strip())\n",
    "            driver.quit()\n",
    "        except:\n",
    "            driver.quit()\n",
    "            break\n",
    "    # Get the tuple list\n",
    "    array = np.array([title,rating,price,full_title,description_s,category_s ]).T\n",
    "    result_list = array.tolist()\n",
    "    data = [tuple(i) for i in result_list]         \n",
    "    return data\n",
    "    "
   ]
  },
  {
   "cell_type": "code",
   "execution_count": 2,
   "metadata": {},
   "outputs": [
    {
     "name": "stdout",
     "output_type": "stream",
     "text": [
      "20\n",
      "                                    title rating   price\n",
      "0                      A Light in the ...  Three  £51.77\n",
      "1                      Tipping the Velvet    One  £53.74\n",
      "2                              Soumission    One  £50.10\n",
      "3                           Sharp Objects   Four  £47.82\n",
      "4            Sapiens: A Brief History ...   Five  £54.23\n",
      "5                         The Requiem Red    One  £22.65\n",
      "6            The Dirty Little Secrets ...   Four  £33.34\n",
      "7                 The Coming Woman: A ...  Three  £17.93\n",
      "8                     The Boys in the ...   Four  £22.60\n",
      "9                         The Black Maria    One  £52.15\n",
      "10  Starving Hearts (Triangular Trade ...    Two  £13.99\n",
      "11                  Shakespeare's Sonnets   Four  £20.66\n",
      "12                            Set Me Free   Five  £17.46\n",
      "13    Scott Pilgrim's Precious Little ...   Five  £52.29\n",
      "14                      Rip it Up and ...   Five  £35.02\n",
      "15                  Our Band Could Be ...  Three  £57.25\n",
      "16                                   Olio    One  £23.88\n",
      "17        Mesaerion: The Best Science ...    One  £37.59\n",
      "18           Libertarianism for Beginners    Two  £51.33\n",
      "19                It's Only the Himalayas    Two  £45.17\n"
     ]
    },
    {
     "data": {
      "image/png": "[encoded data removed]",
      "text/plain": [
       "<Figure size 432x288 with 1 Axes>"
      ]
     },
     "metadata": {
      "needs_background": "light"
     },
     "output_type": "display_data"
    },
    {
     "name": "stdout",
     "output_type": "stream",
     "text": [
      "1000\n",
      "('Girl Online On Tour ...', 'One', '£53.47', 'Girl Online On Tour (Girl Online #2)', \"The sequel to the number-one bestseller Girl Online. Penny joins her rock-star boyfriend, Noah, on his European music tour.Penny's bags are packed.When Noah invites Penny on his European music tour, she can't wait to spend time with her rock-god-tastic boyfriend.But, between Noah's jam-packed schedule, less-than-welcoming bandmates and threatening messages from jealous fan The sequel to the number-one bestseller Girl Online. Penny joins her rock-star boyfriend, Noah, on his European music tour.Penny's bags are packed.When Noah invites Penny on his European music tour, she can't wait to spend time with her rock-god-tastic boyfriend.But, between Noah's jam-packed schedule, less-than-welcoming bandmates and threatening messages from jealous fans, Penny wonders whether she's really cut out for life on tour. She can't help but miss her family, her best friend Elliot . . . and her blog, Girl Online.Can Penny learn to balance life and love on the road, or will she lose everything in pursuit of the perfect summer? ...more\", 'Young Adult')\n"
     ]
    }
   ],
   "source": [
    "if __name__ == \"__main__\":  \n",
    "    \n",
    "    # Test Q1\n",
    "    data=getData()\n",
    "    \n",
    "    # Test Q2\n",
    "    preprocess_data(data)\n",
    "    \n",
    "    # Test Q3\n",
    "    data=getFullData()\n",
    "    print(len(data))\n",
    "    \n",
    "    # randomly select one book\n",
    "    print(data[899])"
   ]
  },
  {
   "cell_type": "code",
   "execution_count": null,
   "metadata": {},
   "outputs": [],
   "source": []
  },
  {
   "cell_type": "markdown",
   "metadata": {},
   "source": [
    "# The result given by instructor"
   ]
  },
  {
   "cell_type": "code",
   "execution_count": 2,
   "metadata": {},
   "outputs": [
    {
     "name": "stdout",
     "output_type": "stream",
     "text": [
      "20\n",
      "                                    title rating  price\n",
      "0                      A Light in the ...  Three  51.77\n",
      "1                      Tipping the Velvet    One  53.74\n",
      "2                              Soumission    One  50.10\n",
      "3                           Sharp Objects   Four  47.82\n",
      "4            Sapiens: A Brief History ...   Five  54.23\n",
      "5                         The Requiem Red    One  22.65\n",
      "6            The Dirty Little Secrets ...   Four  33.34\n",
      "7                 The Coming Woman: A ...  Three  17.93\n",
      "8                     The Boys in the ...   Four  22.60\n",
      "9                         The Black Maria    One  52.15\n",
      "10  Starving Hearts (Triangular Trade ...    Two  13.99\n",
      "11                  Shakespeare's Sonnets   Four  20.66\n",
      "12                            Set Me Free   Five  17.46\n",
      "13    Scott Pilgrim's Precious Little ...   Five  52.29\n",
      "14                      Rip it Up and ...   Five  35.02\n",
      "15                  Our Band Could Be ...  Three  57.25\n",
      "16                                   Olio    One  23.88\n",
      "17        Mesaerion: The Best Science ...    One  37.59\n",
      "18           Libertarianism for Beginners    Two  51.33\n",
      "19                It's Only the Himalayas    Two  45.17\n"
     ]
    },
    {
     "data": {
      "image/png": "[encoded data removed]",
      "text/plain": [
       "<matplotlib.figure.Figure at 0x10d11f320>"
      ]
     },
     "metadata": {},
     "output_type": "display_data"
    }
   ],
   "source": [
    "if __name__ == \"__main__\":  \n",
    "    \n",
    "    # Test Q1\n",
    "    data=getData()\n",
    "    \n",
    "    # Test Q2\n",
    "    preprocess_data(data)\n",
    "    \n",
    "    # Test Q3\n",
    "    data=getFullData()\n",
    "    print(len(data))\n",
    "    \n",
    "    # randomly select one book\n",
    "    print(data[899])\n"
   ]
  },
  {
   "cell_type": "code",
   "execution_count": 6,
   "metadata": {},
   "outputs": [
    {
     "name": "stdout",
     "output_type": "stream",
     "text": [
      "1000\n",
      "('Girl Online On Tour ...', 'One', '£53.47', 'Girl Online On Tour (Girl Online #2)', \"The sequel to the number-one bestseller Girl Online. Penny joins her rock-star boyfriend, Noah, on his European music tour.Penny's bags are packed.When Noah invites Penny on his European music tour, she can't wait to spend time with her rock-god-tastic boyfriend.But, between Noah's jam-packed schedule, less-than-welcoming bandmates and threatening messages from jealous fan The sequel to the number-one bestseller Girl Online. Penny joins her rock-star boyfriend, Noah, on his European music tour.Penny's bags are packed.When Noah invites Penny on his European music tour, she can't wait to spend time with her rock-god-tastic boyfriend.But, between Noah's jam-packed schedule, less-than-welcoming bandmates and threatening messages from jealous fans, Penny wonders whether she's really cut out for life on tour. She can't help but miss her family, her best friend Elliot . . . and her blog, Girl Online.Can Penny learn to balance life and love on the road, or will she lose everything in pursuit of the perfect summer? ...more\", 'Young Adult')\n"
     ]
    }
   ],
   "source": []
  },
  {
   "cell_type": "code",
   "execution_count": null,
   "metadata": {
    "collapsed": true
   },
   "outputs": [],
   "source": []
  }
 ],
 "metadata": {
  "kernelspec": {
   "display_name": "Python 3",
   "language": "python",
   "name": "python3"
  },
  "language_info": {
   "codemirror_mode": {
    "name": "ipython",
    "version": 3
   },
   "file_extension": ".py",
   "mimetype": "text/x-python",
   "name": "python",
   "nbconvert_exporter": "python",
   "pygments_lexer": "ipython3",
   "version": "3.7.1"
  }
 },
 "nbformat": 4,
 "nbformat_minor": 2
}

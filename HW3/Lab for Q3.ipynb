{
 "cells": [
  {
   "cell_type": "code",
   "execution_count": 1,
   "metadata": {},
   "outputs": [],
   "source": [
    "import nltk\n",
    "from nltk.corpus import stopwords\n",
    "import csv\n",
    "from scipy.spatial import distance\n",
    "import pandas as pd\n",
    "import numpy as np\n",
    "from sklearn.preprocessing import normalize\n",
    "\n",
    "# Q1 function\n",
    "def tokenize(text):\n",
    "    \n",
    "    tokens = None\n",
    "    text_lower = text.lower()\n",
    "    stop_words = set(stopwords.words('english'))\n",
    "    pattern = r'[a-zA-Z]+[-\\._\\']*[a-zA-Z]+'\n",
    "    token1 = nltk.regexp_tokenize(text_lower,pattern)\n",
    "    tokens = [i for i in token1 if i not in stop_words]\n",
    "    return tokens\n",
    "\n",
    "\n",
    "# Q3 function\n",
    "\n",
    "def find_similar_doc(docs,  doc_id):\n",
    "    top_sim_index, top_sim_score = None, None\n",
    "    # Use the Q1 function to tokenize each doc in docs\n",
    "    tokens = [tokenize(i) for i in docs]\n",
    "    dic = [nltk.FreqDist(token) for token in tokens]\n",
    "    docs_tokens={idx:doc for idx,doc in enumerate(dic)}\n",
    "    \n",
    "    # Get document-term matrix\n",
    "    dtm = pd.DataFrame.from_dict(docs_tokens, orient=\"index\" )\n",
    "    dtm = dtm.fillna(0)\n",
    "    dtm = dtm.sort_index(axis = 0) \n",
    "    \n",
    "    # Get normalized term frequency (tf) matrix\n",
    "    tf = dtm.values\n",
    "    doc_len = tf.sum(axis = 1)\n",
    "    tf = np.divide(tf, doc_len[:,None])\n",
    "    \n",
    "    # Get idf\n",
    "    df = np.where(tf > 0,1,0)\n",
    "    idf = np.log(np.divide(len(docs), np.sum(df, axis = 0))) + 1\n",
    "    smoothed_idf = np.log(np.divide(len(docs) + 1, np.sum(df, axis = 0) + 1)) + 1\n",
    "    \n",
    "    # Get tf-idf\n",
    "    tf_idf = normalize(tf * idf)\n",
    "    smoothed_tf_idf = normalize(tf * smoothed_idf)\n",
    "\n",
    "    # Use the smoothed_tf_idf to compare the distence between target and others\n",
    "    target = smoothed_tf_idf[doc_id,:] \n",
    "    score = [1 - distance.cosine(target, smoothed_tf_idf[i,:]) for i in range(len(docs))]\n",
    "    dtm['score'] = score \n",
    "    dtm_sort = dtm.sort_values(by=['score'],ascending=False)\n",
    "    top_sim_index = dtm_sort.index.values[1]\n",
    "    top_sim_score = dtm_sort['score'].values[1]\n",
    "    \n",
    "    \n",
    "    return top_sim_index, top_sim_score"
   ]
  },
  {
   "cell_type": "code",
   "execution_count": 2,
   "metadata": {},
   "outputs": [],
   "source": [
    "# Lab\n",
    "data = pd.read_csv(\"amazon_review_300.csv\")\n",
    "docs = data[\"review\"]\n",
    "# Use the Q1 function to tokenize each doc in docs\n",
    "tokens = [tokenize(i) for i in docs]\n",
    "dic = [nltk.FreqDist(token) for token in tokens]\n",
    "docs_tokens={idx:doc for idx,doc in enumerate(dic)}\n",
    "# Get document-term matrix\n",
    "dtm = pd.DataFrame.from_dict(docs_tokens, orient=\"index\" )\n",
    "dtm = dtm.fillna(0)\n",
    "dtm = dtm.sort_index(axis = 0) \n"
   ]
  },
  {
   "cell_type": "code",
   "execution_count": 3,
   "metadata": {},
   "outputs": [],
   "source": [
    "result_arr = np.array([find_similar_doc(docs,i) for i in range(300)])\n",
    "col1 = result_arr[:,0]\n",
    "col2 = result_arr[:,1]\n",
    "dtm['top_sim_index'] = col1\n",
    "dtm['top_sim_score'] = col2\n",
    "result = dtm.iloc[:,[-2,-1]]\n"
   ]
  },
  {
   "cell_type": "code",
   "execution_count": 7,
   "metadata": {},
   "outputs": [
    {
     "data": {
      "text/html": [
       "<div>\n",
       "<style scoped>\n",
       "    .dataframe tbody tr th:only-of-type {\n",
       "        vertical-align: middle;\n",
       "    }\n",
       "\n",
       "    .dataframe tbody tr th {\n",
       "        vertical-align: top;\n",
       "    }\n",
       "\n",
       "    .dataframe thead th {\n",
       "        text-align: right;\n",
       "    }\n",
       "</style>\n",
       "<table border=\"1\" class=\"dataframe\">\n",
       "  <thead>\n",
       "    <tr style=\"text-align: right;\">\n",
       "      <th></th>\n",
       "      <th>top_sim_index</th>\n",
       "      <th>top_sim_score</th>\n",
       "    </tr>\n",
       "  </thead>\n",
       "  <tbody>\n",
       "    <tr>\n",
       "      <td>count</td>\n",
       "      <td>300.000000</td>\n",
       "      <td>300.000000</td>\n",
       "    </tr>\n",
       "    <tr>\n",
       "      <td>mean</td>\n",
       "      <td>153.280000</td>\n",
       "      <td>0.191250</td>\n",
       "    </tr>\n",
       "    <tr>\n",
       "      <td>std</td>\n",
       "      <td>91.399752</td>\n",
       "      <td>0.104174</td>\n",
       "    </tr>\n",
       "    <tr>\n",
       "      <td>min</td>\n",
       "      <td>1.000000</td>\n",
       "      <td>0.055308</td>\n",
       "    </tr>\n",
       "    <tr>\n",
       "      <td>25%</td>\n",
       "      <td>69.000000</td>\n",
       "      <td>0.125883</td>\n",
       "    </tr>\n",
       "    <tr>\n",
       "      <td>50%</td>\n",
       "      <td>156.000000</td>\n",
       "      <td>0.166524</td>\n",
       "    </tr>\n",
       "    <tr>\n",
       "      <td>75%</td>\n",
       "      <td>232.500000</td>\n",
       "      <td>0.223430</td>\n",
       "    </tr>\n",
       "    <tr>\n",
       "      <td>max</td>\n",
       "      <td>299.000000</td>\n",
       "      <td>0.911463</td>\n",
       "    </tr>\n",
       "  </tbody>\n",
       "</table>\n",
       "</div>"
      ],
      "text/plain": [
       "       top_sim_index  top_sim_score\n",
       "count     300.000000     300.000000\n",
       "mean      153.280000       0.191250\n",
       "std        91.399752       0.104174\n",
       "min         1.000000       0.055308\n",
       "25%        69.000000       0.125883\n",
       "50%       156.000000       0.166524\n",
       "75%       232.500000       0.223430\n",
       "max       299.000000       0.911463"
      ]
     },
     "execution_count": 7,
     "metadata": {},
     "output_type": "execute_result"
    }
   ],
   "source": [
    "result.describe()"
   ]
  },
  {
   "cell_type": "code",
   "execution_count": 12,
   "metadata": {},
   "outputs": [
    {
     "data": {
      "text/plain": [
       "array([[<matplotlib.axes._subplots.AxesSubplot object at 0x1168b6cc0>]],\n",
       "      dtype=object)"
      ]
     },
     "execution_count": 12,
     "metadata": {},
     "output_type": "execute_result"
    },
    {
     "data": {
      "image/png": "[encoded data removed]",
      "text/plain": [
       "<Figure size 432x288 with 1 Axes>"
      ]
     },
     "metadata": {
      "needs_background": "light"
     },
     "output_type": "display_data"
    }
   ],
   "source": [
    "result.hist('top_sim_score',bins = 100)"
   ]
  },
  {
   "cell_type": "code",
   "execution_count": 20,
   "metadata": {},
   "outputs": [],
   "source": [
    "sort = result.sort_values(by=['top_sim_score'],ascending = False)"
   ]
  },
  {
   "cell_type": "code",
   "execution_count": 27,
   "metadata": {},
   "outputs": [
    {
     "data": {
      "text/html": [
       "<div>\n",
       "<style scoped>\n",
       "    .dataframe tbody tr th:only-of-type {\n",
       "        vertical-align: middle;\n",
       "    }\n",
       "\n",
       "    .dataframe tbody tr th {\n",
       "        vertical-align: top;\n",
       "    }\n",
       "\n",
       "    .dataframe thead th {\n",
       "        text-align: right;\n",
       "    }\n",
       "</style>\n",
       "<table border=\"1\" class=\"dataframe\">\n",
       "  <thead>\n",
       "    <tr style=\"text-align: right;\">\n",
       "      <th></th>\n",
       "      <th>top_sim_index</th>\n",
       "      <th>top_sim_score</th>\n",
       "    </tr>\n",
       "  </thead>\n",
       "  <tbody>\n",
       "    <tr>\n",
       "      <td>65</td>\n",
       "      <td>70.0</td>\n",
       "      <td>0.082320</td>\n",
       "    </tr>\n",
       "    <tr>\n",
       "      <td>262</td>\n",
       "      <td>109.0</td>\n",
       "      <td>0.081186</td>\n",
       "    </tr>\n",
       "    <tr>\n",
       "      <td>167</td>\n",
       "      <td>44.0</td>\n",
       "      <td>0.081137</td>\n",
       "    </tr>\n",
       "    <tr>\n",
       "      <td>16</td>\n",
       "      <td>21.0</td>\n",
       "      <td>0.079655</td>\n",
       "    </tr>\n",
       "    <tr>\n",
       "      <td>179</td>\n",
       "      <td>292.0</td>\n",
       "      <td>0.076637</td>\n",
       "    </tr>\n",
       "    <tr>\n",
       "      <td>38</td>\n",
       "      <td>211.0</td>\n",
       "      <td>0.073108</td>\n",
       "    </tr>\n",
       "    <tr>\n",
       "      <td>136</td>\n",
       "      <td>176.0</td>\n",
       "      <td>0.072661</td>\n",
       "    </tr>\n",
       "    <tr>\n",
       "      <td>260</td>\n",
       "      <td>186.0</td>\n",
       "      <td>0.071986</td>\n",
       "    </tr>\n",
       "    <tr>\n",
       "      <td>60</td>\n",
       "      <td>1.0</td>\n",
       "      <td>0.071899</td>\n",
       "    </tr>\n",
       "    <tr>\n",
       "      <td>22</td>\n",
       "      <td>188.0</td>\n",
       "      <td>0.067669</td>\n",
       "    </tr>\n",
       "    <tr>\n",
       "      <td>56</td>\n",
       "      <td>24.0</td>\n",
       "      <td>0.065349</td>\n",
       "    </tr>\n",
       "    <tr>\n",
       "      <td>123</td>\n",
       "      <td>126.0</td>\n",
       "      <td>0.060508</td>\n",
       "    </tr>\n",
       "    <tr>\n",
       "      <td>180</td>\n",
       "      <td>165.0</td>\n",
       "      <td>0.059250</td>\n",
       "    </tr>\n",
       "    <tr>\n",
       "      <td>177</td>\n",
       "      <td>23.0</td>\n",
       "      <td>0.056490</td>\n",
       "    </tr>\n",
       "    <tr>\n",
       "      <td>28</td>\n",
       "      <td>280.0</td>\n",
       "      <td>0.055308</td>\n",
       "    </tr>\n",
       "  </tbody>\n",
       "</table>\n",
       "</div>"
      ],
      "text/plain": [
       "     top_sim_index  top_sim_score\n",
       "65            70.0       0.082320\n",
       "262          109.0       0.081186\n",
       "167           44.0       0.081137\n",
       "16            21.0       0.079655\n",
       "179          292.0       0.076637\n",
       "38           211.0       0.073108\n",
       "136          176.0       0.072661\n",
       "260          186.0       0.071986\n",
       "60             1.0       0.071899\n",
       "22           188.0       0.067669\n",
       "56            24.0       0.065349\n",
       "123          126.0       0.060508\n",
       "180          165.0       0.059250\n",
       "177           23.0       0.056490\n",
       "28           280.0       0.055308"
      ]
     },
     "execution_count": 27,
     "metadata": {},
     "output_type": "execute_result"
    }
   ],
   "source": [
    "sort.tail(15)"
   ]
  },
  {
   "cell_type": "markdown",
   "metadata": {},
   "source": [
    "# Testing"
   ]
  },
  {
   "cell_type": "code",
   "execution_count": 6,
   "metadata": {},
   "outputs": [
    {
     "name": "stdout",
     "output_type": "stream",
     "text": [
      "\n",
      "Similarity between 207 and 206 is 0.20: \n",
      "\n",
      "selected doc:  I have been using this product for 5+ years. It was wonderful. About 1 year ago the company changed packaging and the product changed slightly. The bottle is taller now and something is missing from the serum. Doesn't work as well as it used to work. I will not be purchasing this item because of the change.\n",
      "\n",
      "similar doc:  I have been used this product for many years. But somehow the product I received this time is like fake one. It's very thin. I have to used double amount.\n",
      "\n",
      "Similarity between 10 and 15 is 0.16: \n",
      "\n",
      "selected doc:  A complete waste of time. Typographical errors, poor grammar, and a totally pathetic plot add up to absolutely nothing. I'm embarrassed for this author and very disappointed I actually paid for this book.\n",
      "\n",
      "similar doc:  It's glaringly obvious that all of the glowing reviews have been written by the same person, perhaps the author herself. They all have the same misspellings and poor sentence structure that is featured in the book. Who made Veronica Haddon think she is an author?\n"
     ]
    }
   ],
   "source": [
    "\n",
    "# pick any doc id, e.g. 10, 207\n",
    "doc_id =207\n",
    "sim_doc_id, sim = find_similar_doc(data[\"review\"], doc_id)\n",
    "print(\"\\nSimilarity between {0} and {1} is {2:.2f}: \"\\\n",
    "          .format(doc_id, sim_doc_id, sim))\n",
    "print(\"\\nselected doc: \", data.loc[doc_id][\"review\"])\n",
    "print(\"\\nsimilar doc: \", data.loc[sim_doc_id][\"review\"])\n",
    "    \n",
    "    \n",
    "doc_id =10\n",
    "sim_doc_id, sim = find_similar_doc(data[\"review\"], doc_id)\n",
    "print(\"\\nSimilarity between {0} and {1} is {2:.2f}: \"\\\n",
    "          .format(doc_id, sim_doc_id, sim))\n",
    "print(\"\\nselected doc: \", data.loc[doc_id][\"review\"])\n",
    "print(\"\\nsimilar doc: \", data.loc[sim_doc_id][\"review\"])\n",
    "    "
   ]
  },
  {
   "cell_type": "code",
   "execution_count": 25,
   "metadata": {},
   "outputs": [],
   "source": [
    "def test(doc_id):\n",
    "    sim_doc_id, sim = find_similar_doc(data[\"review\"], doc_id)\n",
    "    print('\\n')\n",
    "    print(\"\\nSimilarity between {0} and {1} is {2:.2f}: \"\\\n",
    "          .format(doc_id, sim_doc_id, sim))\n",
    "    print(\"\\nselected doc: \", data.loc[doc_id][\"review\"])\n",
    "    print(\"\\nsimilar doc: \", data.loc[sim_doc_id][\"review\"])\n",
    "    "
   ]
  },
  {
   "cell_type": "code",
   "execution_count": null,
   "metadata": {},
   "outputs": [],
   "source": []
  },
  {
   "cell_type": "code",
   "execution_count": null,
   "metadata": {},
   "outputs": [],
   "source": []
  }
 ],
 "metadata": {
  "kernelspec": {
   "display_name": "Python 3",
   "language": "python",
   "name": "python3"
  },
  "language_info": {
   "codemirror_mode": {
    "name": "ipython",
    "version": 3
   },
   "file_extension": ".py",
   "mimetype": "text/x-python",
   "name": "python",
   "nbconvert_exporter": "python",
   "pygments_lexer": "ipython3",
   "version": "3.7.1"
  }
 },
 "nbformat": 4,
 "nbformat_minor": 2
}
